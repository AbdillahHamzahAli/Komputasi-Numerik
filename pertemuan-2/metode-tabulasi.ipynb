{
 "cells": [
  {
   "cell_type": "markdown",
   "id": "aa25ff64",
   "metadata": {},
   "source": [
    "Dapatkan akar pendekatan dari persamaan berikut $ f(x) = e^{-x} - x $ dan carilah Error Truenya jika harga sebenarnya `X = 0,56714329` \n",
    "$ Et = |\\frac{exprerimental - true}{true}|  * 100% $"
   ]
  },
  {
   "cell_type": "code",
   "execution_count": 6,
   "id": "05293d84",
   "metadata": {},
   "outputs": [
    {
     "name": "stdout",
     "output_type": "stream",
     "text": [
      "Requirement already satisfied: numpy in c:\\users\\abdil\\onedrive\\desktop\\kuliah\\komputasi numerik\\code\\venv\\lib\\site-packages (2.2.4)\n",
      "Requirement already satisfied: tabulate in c:\\users\\abdil\\onedrive\\desktop\\kuliah\\komputasi numerik\\code\\venv\\lib\\site-packages (0.9.0)\n",
      "Requirement already satisfied: matplotlib in c:\\users\\abdil\\onedrive\\desktop\\kuliah\\komputasi numerik\\code\\venv\\lib\\site-packages (3.10.1)\n",
      "Requirement already satisfied: kiwisolver>=1.3.1 in c:\\users\\abdil\\onedrive\\desktop\\kuliah\\komputasi numerik\\code\\venv\\lib\\site-packages (from matplotlib) (1.4.8)\n",
      "Requirement already satisfied: pillow>=8 in c:\\users\\abdil\\onedrive\\desktop\\kuliah\\komputasi numerik\\code\\venv\\lib\\site-packages (from matplotlib) (11.1.0)\n",
      "Requirement already satisfied: contourpy>=1.0.1 in c:\\users\\abdil\\onedrive\\desktop\\kuliah\\komputasi numerik\\code\\venv\\lib\\site-packages (from matplotlib) (1.3.1)\n",
      "Requirement already satisfied: packaging>=20.0 in c:\\users\\abdil\\onedrive\\desktop\\kuliah\\komputasi numerik\\code\\venv\\lib\\site-packages (from matplotlib) (24.2)\n",
      "Requirement already satisfied: pyparsing>=2.3.1 in c:\\users\\abdil\\onedrive\\desktop\\kuliah\\komputasi numerik\\code\\venv\\lib\\site-packages (from matplotlib) (3.2.3)\n",
      "Requirement already satisfied: python-dateutil>=2.7 in c:\\users\\abdil\\onedrive\\desktop\\kuliah\\komputasi numerik\\code\\venv\\lib\\site-packages (from matplotlib) (2.9.0.post0)\n",
      "Requirement already satisfied: cycler>=0.10 in c:\\users\\abdil\\onedrive\\desktop\\kuliah\\komputasi numerik\\code\\venv\\lib\\site-packages (from matplotlib) (0.12.1)\n",
      "Requirement already satisfied: fonttools>=4.22.0 in c:\\users\\abdil\\onedrive\\desktop\\kuliah\\komputasi numerik\\code\\venv\\lib\\site-packages (from matplotlib) (4.56.0)\n",
      "Requirement already satisfied: six>=1.5 in c:\\users\\abdil\\onedrive\\desktop\\kuliah\\komputasi numerik\\code\\venv\\lib\\site-packages (from python-dateutil>=2.7->matplotlib) (1.17.0)\n",
      "Note: you may need to restart the kernel to use updated packages.\n"
     ]
    },
    {
     "name": "stderr",
     "output_type": "stream",
     "text": [
      "\n",
      "[notice] A new release of pip available: 22.2.1 -> 25.0.1\n",
      "[notice] To update, run: python.exe -m pip install --upgrade pip\n"
     ]
    }
   ],
   "source": [
    "%pip install numpy tabulate matplotlib"
   ]
  },
  {
   "cell_type": "code",
   "execution_count": 7,
   "id": "1cc123fd",
   "metadata": {},
   "outputs": [
    {
     "name": "stdout",
     "output_type": "stream",
     "text": [
      "\n",
      "Step 0.1\n",
      "╒═════╤════════════╕\n",
      "│   x │       f(x) │\n",
      "╞═════╪════════════╡\n",
      "│ 0   │  1         │\n",
      "├─────┼────────────┤\n",
      "│ 0.1 │  0.804837  │\n",
      "├─────┼────────────┤\n",
      "│ 0.2 │  0.618731  │\n",
      "├─────┼────────────┤\n",
      "│ 0.3 │  0.440818  │\n",
      "├─────┼────────────┤\n",
      "│ 0.4 │  0.27032   │\n",
      "├─────┼────────────┤\n",
      "│ 0.5 │  0.106531  │\n",
      "├─────┼────────────┤\n",
      "│ 0.6 │ -0.0511884 │\n",
      "├─────┼────────────┤\n",
      "│ 0.7 │ -0.203415  │\n",
      "├─────┼────────────┤\n",
      "│ 0.8 │ -0.350671  │\n",
      "├─────┼────────────┤\n",
      "│ 0.9 │ -0.49343   │\n",
      "├─────┼────────────┤\n",
      "│ 1   │ -0.632121  │\n",
      "╘═════╧════════════╛\n",
      "\n",
      "Step 0.01\n",
      "╒══════╤═════════════╕\n",
      "│    x │        f(x) │\n",
      "╞══════╪═════════════╡\n",
      "│ 0.5  │  0.106531   │\n",
      "├──────┼─────────────┤\n",
      "│ 0.51 │  0.0904956  │\n",
      "├──────┼─────────────┤\n",
      "│ 0.52 │  0.0745205  │\n",
      "├──────┼─────────────┤\n",
      "│ 0.53 │  0.058605   │\n",
      "├──────┼─────────────┤\n",
      "│ 0.54 │  0.0427483  │\n",
      "├──────┼─────────────┤\n",
      "│ 0.55 │  0.0269498  │\n",
      "├──────┼─────────────┤\n",
      "│ 0.56 │  0.0112091  │\n",
      "├──────┼─────────────┤\n",
      "│ 0.57 │ -0.00447456 │\n",
      "├──────┼─────────────┤\n",
      "│ 0.58 │ -0.0201016  │\n",
      "├──────┼─────────────┤\n",
      "│ 0.59 │ -0.0356727  │\n",
      "├──────┼─────────────┤\n",
      "│ 0.6  │ -0.0511884  │\n",
      "├──────┼─────────────┤\n",
      "│ 0.61 │ -0.0666491  │\n",
      "╘══════╧═════════════╛\n",
      "\n",
      "Step 0.001\n",
      "╒═══════╤══════════════╕\n",
      "│     x │         f(x) │\n",
      "╞═══════╪══════════════╡\n",
      "│ 0.56  │  0.0112091   │\n",
      "├───────┼──────────────┤\n",
      "│ 0.561 │  0.00963814  │\n",
      "├───────┼──────────────┤\n",
      "│ 0.562 │  0.00806779  │\n",
      "├───────┼──────────────┤\n",
      "│ 0.563 │  0.006498    │\n",
      "├───────┼──────────────┤\n",
      "│ 0.564 │  0.00492879  │\n",
      "├───────┼──────────────┤\n",
      "│ 0.565 │  0.00336015  │\n",
      "├───────┼──────────────┤\n",
      "│ 0.566 │  0.00179207  │\n",
      "├───────┼──────────────┤\n",
      "│ 0.567 │  0.000224562 │\n",
      "├───────┼──────────────┤\n",
      "│ 0.568 │ -0.00134238  │\n",
      "├───────┼──────────────┤\n",
      "│ 0.569 │ -0.00290875  │\n",
      "├───────┼──────────────┤\n",
      "│ 0.57  │ -0.00447456  │\n",
      "├───────┼──────────────┤\n",
      "│ 0.571 │ -0.0060398   │\n",
      "╘═══════╧══════════════╛\n"
     ]
    }
   ],
   "source": [
    "import numpy as np\n",
    "from tabulate import tabulate\n",
    "\n",
    "def f(x):\n",
    "    return np.exp(-x) - x\n",
    "\n",
    "def print_table(x, y, title=None):\n",
    "    tabel_data = [[x[i], y[i]] for i in range(len(x))]\n",
    "    headers = [\"x\", \"f(x)\"]\n",
    "    if title: print(f\"\\n{title}\")\n",
    "    print(tabulate(tabel_data, headers, tablefmt=\"fancy_grid\"))\n",
    "\n",
    "def find_sign_change_interval(x, y):\n",
    "    for i in range(len(y) - 1):\n",
    "        if y[i] > 0 and y[i+1] < 0:\n",
    "            return x[i], x[i+1]\n",
    "    return None, None\n",
    "\n",
    "# Tahapan refinemen\n",
    "steps = [0.1, 0.01, 0.001]\n",
    "x_start, x_end = 0, 1\n",
    "\n",
    "# Inisialisasi\n",
    "\n",
    "for idx, step in enumerate(steps):\n",
    "    x = np.arange(x_start, x_end + step, step)\n",
    "    y = f(x)\n",
    "    \n",
    "    print_table(x, y, title=f\"Step {step}\")\n",
    "\n",
    "    x_start, x_end = find_sign_change_interval(x, y)\n",
    "    if x_start is None:\n",
    "        print(\"Tidak ditemukan perubahan tanda.\")\n",
    "        break\n"
   ]
  },
  {
   "cell_type": "code",
   "execution_count": 8,
   "id": "58b6796b",
   "metadata": {},
   "outputs": [
    {
     "data": {
      "image/png": "[encoded data removed]",
      "text/plain": [
       "<Figure size 640x480 with 1 Axes>"
      ]
     },
     "metadata": {},
     "output_type": "display_data"
    }
   ],
   "source": [
    "import matplotlib.pyplot as plt\n",
    "\n",
    "x_curve = np.linspace(min(x), max(x), 100)\n",
    "y_curve = [np.exp(-x) - x for x in x_curve]\n",
    "\n",
    "plt.scatter(x, y, color='red', label=\"Data Asli\")\n",
    "plt.plot(x_curve, y_curve, 'b-', label='f(x) = e^(-x) - x')\n",
    "plt.axhline(y=0, color='k', linestyle='-', alpha=0.3)\n",
    "plt.axvline(x=0, color='k', linestyle='-', alpha=0.3)\n",
    "plt.grid(True, alpha=0.3)\n",
    "plt.title('Grafik f(x) = e^(-x) - x')\n",
    "plt.xlabel('x')\n",
    "plt.ylabel('y')\n",
    "plt.legend()\n",
    "plt.show()"
   ]
  },
  {
   "cell_type": "code",
   "execution_count": 9,
   "id": "b4471643",
   "metadata": {},
   "outputs": [
    {
     "name": "stdout",
     "output_type": "stream",
     "text": [
      "\n",
      "Nilai pendekatan terbaik: x = 0.567 dengan Et = 0.025%\n"
     ]
    }
   ],
   "source": [
    "x_true = 0.56714329\n",
    "Et = np.abs((x_true - x) / x_true) * 100\n",
    "min_index = np.argmin(Et)\n",
    "print(f\"\\nNilai pendekatan terbaik: x = {x[min_index]:.3f} dengan Et = {Et[min_index]:.3f}%\")\n"
   ]
  }
 ],
 "metadata": {
  "kernelspec": {
   "display_name": "venv",
   "language": "python",
   "name": "python3"
  },
  "language_info": {
   "codemirror_mode": {
    "name": "ipython",
    "version": 3
   },
   "file_extension": ".py",
   "mimetype": "text/x-python",
   "name": "python",
   "nbconvert_exporter": "python",
   "pygments_lexer": "ipython3",
   "version": "3.10.6"
  }
 },
 "nbformat": 4,
 "nbformat_minor": 5
}

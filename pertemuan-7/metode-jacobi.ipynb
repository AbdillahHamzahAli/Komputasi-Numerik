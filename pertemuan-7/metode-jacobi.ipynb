{
 "cells": [
  {
   "cell_type": "markdown",
   "id": "dda49c97",
   "metadata": {},
   "source": [
    "# Jacobi Method\n",
    "\n",
    "\n",
    "$$\n",
    "a_{11}x_1 + a_{12}x_2 + a_{13}x_3 = b_1 \\\\\n",
    "a_{21}x_1 + a_{22}x_2 + a_{23}x_3 = b_2 \\\\\n",
    "a_{31}x_1 + a_{32}x_2 + a_{33}x_3 = b_3 \\\\\n",
    "$$\n",
    "\n",
    "dirubah menjadi\n",
    "\n",
    "$$\n",
    "x_1 = \\frac{(b_1 - a_{12}x_2 - a_{13}x_3)}{a_{11}} \\\\\n",
    "\n",
    "x_2 = \\frac{(b_2 - a_{21}x_1 - a_{23}x_3)}{a_{22}} \\\\\n",
    "\n",
    "x_3 = \\frac{(b_3 - a_{31}x_1 - a_{32}x_2)}{a_{33}} \\\\\n",
    "$$\n",
    "\n",
    "- sehingga, kita mengetahui nilai dari x1, x2, dan x3 secara langsung\n",
    "- Nilai Awal x1, x2, dan x3 adalah 0"
   ]
  },
  {
   "cell_type": "markdown",
   "id": "e852b4df",
   "metadata": {},
   "source": [
    "## Contoh Soal\n",
    "\n",
    "$$\n",
    "\\begin{cases}\n",
    "10x + 2y + z = 9 \\\\\n",
    "2x + 20y - 2z = -44 \\\\\n",
    "-2x + 3y + 10z = 22\n",
    "\\end{cases}\n",
    "$$\n"
   ]
  },
  {
   "cell_type": "code",
   "execution_count": 1,
   "id": "1ad8e2bd",
   "metadata": {},
   "outputs": [
    {
     "name": "stdout",
     "output_type": "stream",
     "text": [
      "Requirement already satisfied: numpy in c:\\users\\abdil\\onedrive\\desktop\\kuliah\\komputasi numerik\\code\\venv\\lib\\site-packages (2.2.4)\n",
      "Note: you may need to restart the kernel to use updated packages.\n"
     ]
    },
    {
     "name": "stderr",
     "output_type": "stream",
     "text": [
      "\n",
      "[notice] A new release of pip available: 22.2.1 -> 25.0.1\n",
      "[notice] To update, run: python.exe -m pip install --upgrade pip\n"
     ]
    }
   ],
   "source": [
    "%pip install numpy"
   ]
  },
  {
   "cell_type": "code",
   "execution_count": 2,
   "id": "8f86153b",
   "metadata": {},
   "outputs": [],
   "source": [
    "import numpy as np\n",
    "from tabulate import tabulate\n",
    "\n",
    "A = np.array([\n",
    "    [10.0, 2.0, 1.0],  # 10x + 2y + z = 9\n",
    "    [2.0, 20.0, -2.0], # 2x + 20y - 2z = -44\n",
    "    [-2.0, 3.0, 10.0]  # -2x + 3y + 10z = 22\n",
    "])\n",
    "\n",
    "b = np.array([9.0, -44.0, 22.0]) # b = [9, -44, 22]"
   ]
  },
  {
   "cell_type": "code",
   "execution_count": 3,
   "id": "42adea22",
   "metadata": {},
   "outputs": [
    {
     "name": "stdout",
     "output_type": "stream",
     "text": [
      "╒═══════════╤══════╤═══════╤══════╕\n",
      "│   Iterasi │   x1 │    x2 │   x3 │\n",
      "╞═══════════╪══════╪═══════╪══════╡\n",
      "│         1 │ 0.90 │ -2.20 │ 2.20 │\n",
      "├───────────┼──────┼───────┼──────┤\n",
      "│         2 │ 1.12 │ -2.07 │ 3.04 │\n",
      "├───────────┼──────┼───────┼──────┤\n",
      "│         3 │ 1.01 │ -2.01 │ 3.04 │\n",
      "├───────────┼──────┼───────┼──────┤\n",
      "│         4 │ 1.00 │ -2.00 │ 3.00 │\n",
      "├───────────┼──────┼───────┼──────┤\n",
      "│         5 │ 1.00 │ -2.00 │ 3.00 │\n",
      "╘═══════════╧══════╧═══════╧══════╛\n",
      "\n",
      "Konvergen dalam 5 iterasi.\n",
      "\n",
      "Solusi akhir:\n",
      "[ 1. -2.  3.]\n"
     ]
    }
   ],
   "source": [
    "x = np.zeros_like(b)\n",
    "\n",
    "tolerance = 1e-10\n",
    "max_iterations = 100\n",
    "\n",
    "def jacobi(A, b, x0, tol, max_iter):\n",
    "    n = len(b)\n",
    "    x = x0.copy()\n",
    "    rows = []\n",
    "\n",
    "    for iteration in range(1, max_iter + 1):\n",
    "        x_new = np.zeros_like(x)\n",
    "        for i in range(n):\n",
    "            s = sum(A[i][j] * x[j] for j in range(n) if j != i)\n",
    "            x_new[i] = np.round(((b[i] - s) / A[i][i]),2)\n",
    "\n",
    "        rows.append([iteration, *x_new])\n",
    "\n",
    "        if np.linalg.norm(x_new - x, ord=np.inf) < tol:\n",
    "            print(tabulate(rows, headers=[\"Iterasi\", \"x1\", \"x2\", \"x3\"], floatfmt=\".2f\", tablefmt=\"fancy_grid\"))\n",
    "            print(f\"\\nKonvergen dalam {iteration} iterasi.\")\n",
    "            return x_new\n",
    "\n",
    "        x = x_new\n",
    "\n",
    "    print(tabulate(rows, headers=[\"Iterasi\", \"x1\", \"x2\", \"x3\"], floatfmt=\".2f\", tablefmt=\"fancy_grid\"))\n",
    "    print(\"\\nTidak konvergen dalam batas iterasi.\")\n",
    "    return x\n",
    "\n",
    "# Jalankan\n",
    "solusi = jacobi(A, b, x, tolerance, max_iterations)\n",
    "print(\"\\nSolusi akhir:\")\n",
    "print(solusi)\n"
   ]
  }
 ],
 "metadata": {
  "kernelspec": {
   "display_name": "venv",
   "language": "python",
   "name": "python3"
  },
  "language_info": {
   "codemirror_mode": {
    "name": "ipython",
    "version": 3
   },
   "file_extension": ".py",
   "mimetype": "text/x-python",
   "name": "python",
   "nbconvert_exporter": "python",
   "pygments_lexer": "ipython3",
   "version": "3.10.6"
  }
 },
 "nbformat": 4,
 "nbformat_minor": 5
}

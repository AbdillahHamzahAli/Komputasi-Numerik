{
 "cells": [
  {
   "cell_type": "code",
   "execution_count": null,
   "metadata": {},
   "outputs": [],
   "source": [
    "%pip install numpy matplotlib tabulate"
   ]
  },
  {
   "cell_type": "markdown",
   "metadata": {},
   "source": [
    "## Cari persamaan pangkat sederhana terhadap data berikut\n",
    "$$\n",
    "y = ae^{bx}\n",
    "$$\n",
    "\n",
    "| X  | 2   | 3   | 4   | 5   | 6   |\n",
    "|-----|-----|-----|-----|-----|-----|\n",
    "| Y | 2.50 | 3.80 | 5.70 | 8.40 | 12.30 |\n",
    "\n",
    "$$\n",
    "a_1 = \\frac{n \\sum (x_i y_i) - \\sum x_i \\sum y_i}{n \\sum x_i^2 - (\\sum x_i)^2}\n",
    "$$\n"
   ]
  },
  {
   "cell_type": "code",
   "execution_count": 3,
   "metadata": {},
   "outputs": [],
   "source": [
    "import numpy as np\n",
    "n = 5\n",
    "x = np.array([1,2,3,4,5])\n",
    "y = np.array([2.50,3.80,5.70,8.40,12.30])"
   ]
  },
  {
   "cell_type": "code",
   "execution_count": 4,
   "metadata": {},
   "outputs": [],
   "source": [
    "x_squared = x * x # xi^2\n",
    "ln_y = np.round(np.log(y), 2) # yi\n",
    "x_ln_y = x * ln_y # xi*yi\n",
    "\n",
    "xi_total = np.round(np.sum(x),2)\n",
    "yi_total = np.round(np.sum(ln_y),2)\n",
    "xi_squared_total = np.round(np.sum(x_squared),2)\n",
    "x_ln_y_total = np.round(np.sum(x_ln_y),2)\n",
    "\n",
    "xr = xi_total / n\n",
    "yr = np.round((yi_total / n),2)\n",
    "\n",
    "a1 = (n * x_ln_y_total - xi_total * yi_total) / (n * xi_squared_total - xi_total ** 2)\n",
    "a0 = np.round((yr - a1 * xr),2) \n",
    "a = np.round(np.exp(a0),2)\n",
    "b = np.round(a1,2)\n"
   ]
  },
  {
   "cell_type": "code",
   "execution_count": 5,
   "metadata": {},
   "outputs": [
    {
     "name": "stdout",
     "output_type": "stream",
     "text": [
      "+-------+----------+--------------+--------+---------+\n",
      "| No    |   xi = x |   yi = ln(y) |   xi^2 |   xi*yi |\n",
      "+=======+==========+==============+========+=========+\n",
      "| 1     |        1 |         0.92 |      1 |    0.92 |\n",
      "+-------+----------+--------------+--------+---------+\n",
      "| 2     |        2 |         1.34 |      4 |    2.68 |\n",
      "+-------+----------+--------------+--------+---------+\n",
      "| 3     |        3 |         1.74 |      9 |    5.22 |\n",
      "+-------+----------+--------------+--------+---------+\n",
      "| 4     |        4 |         2.13 |     16 |    8.52 |\n",
      "+-------+----------+--------------+--------+---------+\n",
      "| 5     |        5 |         2.51 |     25 |   12.55 |\n",
      "+-------+----------+--------------+--------+---------+\n",
      "| total |       15 |         8.64 |     55 |   29.89 |\n",
      "+-------+----------+--------------+--------+---------+\n"
     ]
    }
   ],
   "source": [
    "from tabulate import tabulate\n",
    "\n",
    "table_data = [\n",
    "    [i+1,x[i], ln_y[i], x_squared[i], x_ln_y[i]]\n",
    "    for i in range(n)\n",
    "]\n",
    "\n",
    "table_data.append([\"total\", xi_total, yi_total, xi_squared_total, x_ln_y_total])\n",
    "headers = [\"No\", \"xi = x\", \"yi = ln(y)\", \"xi^2\", \"xi*yi\"]\n",
    "print(tabulate(table_data, headers=headers, tablefmt=\"grid\"))"
   ]
  },
  {
   "cell_type": "code",
   "execution_count": 6,
   "metadata": {},
   "outputs": [
    {
     "name": "stdout",
     "output_type": "stream",
     "text": [
      "rata-rata y = 15 / 5 = 3.0\n",
      "rata-rata x = 8.64 / 5 = 1.73\n",
      "Total (xi * yi) = 29.89\n",
      "Total (xi^2) = 55\n",
      "a1 = [n * Σ(xi * yi) - Σxi * Σyi] / [n * Σxi^2 - (Σxi)^2] = [5 * 29.89 - 15 * 8.64] / [5 * 55 - (15)^2] = 0.4\n",
      "a0 = yr-a1*xr = 1.73 - 0.4 * 3.0 = 0.54\n",
      "a= exp(a0) = 1.72\n",
      "b = a1 = 0.4\n",
      "Persamaan Regresi Linier :\n",
      "y = 1.72 e^( 0.4 x)\n"
     ]
    }
   ],
   "source": [
    "# Hasil\n",
    "print(f'rata-rata y = {xi_total} / {n} = {xr}')\n",
    "print(f'rata-rata x = {yi_total} / {n} = {yr}')\n",
    "print(f'Total (xi * yi) = {x_ln_y_total}')\n",
    "print(f'Total (xi^2) = {xi_squared_total}')\n",
    "print(f'a1 = [n * Σ(xi * yi) - Σxi * Σyi] / [n * Σxi^2 - (Σxi)^2] = [{n} * {x_ln_y_total} - {xi_total} * {yi_total}] / [{n} * {xi_squared_total} - ({xi_total})^2] = {np.round(a1,2)}')\n",
    "print(f'a0 = yr-a1*xr = {yr} - {np.round(a1,1)} * {xr} = {a0}')\n",
    "print(f'a= exp(a0) = {a}')\n",
    "print(f'b = a1 = {b}')\n",
    "print(\"Persamaan Regresi Linier :\")\n",
    "print(\"y =\", a, \"e^(\", b, \"x)\")\n"
   ]
  },
  {
   "cell_type": "code",
   "execution_count": 8,
   "metadata": {},
   "outputs": [
    {
     "data": {
      "image/png": "[encoded data removed]",
      "text/plain": [
       "<Figure size 640x480 with 1 Axes>"
      ]
     },
     "metadata": {},
     "output_type": "display_data"
    }
   ],
   "source": [
    "import matplotlib.pyplot as plt\n",
    "\n",
    "# Buat nilai x untuk kurva regresi\n",
    "x_curve = np.linspace(min(x), 6, 100)\n",
    "y_curve = a * np.exp(b * x_curve)\n",
    "\n",
    "# Plot data asli\n",
    "plt.scatter(x, y, color='red', label=\"Data Asli\")\n",
    "\n",
    "# Plot kurva regresi eksponensial\n",
    "plt.plot(x_curve, y_curve, color='blue', label=r\"$y = {:.2f} e^{{{:.2f}x}}$\".format(a, b))\n",
    "\n",
    "# Label dan judul\n",
    "plt.xlabel(\"x\")\n",
    "plt.ylabel(\"y\")\n",
    "plt.legend()\n",
    "plt.grid()\n",
    "plt.show()\n"
   ]
  }
 ],
 "metadata": {
  "kernelspec": {
   "display_name": "venv",
   "language": "python",
   "name": "python3"
  },
  "language_info": {
   "codemirror_mode": {
    "name": "ipython",
    "version": 3
   },
   "file_extension": ".py",
   "mimetype": "text/x-python",
   "name": "python",
   "nbconvert_exporter": "python",
   "pygments_lexer": "ipython3",
   "version": "3.10.6"
  }
 },
 "nbformat": 4,
 "nbformat_minor": 2
}
